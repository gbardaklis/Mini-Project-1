{
  "cells": [
    {
      "cell_type": "markdown",
      "metadata": {
        "id": "view-in-github",
        "colab_type": "text"
      },
      "source": [
        "<a href=\"https://colab.research.google.com/github/gbardaklis/Mini-Project-1/blob/main/MP1.ipynb\" target=\"_parent\"><img src=\"https://colab.research.google.com/assets/colab-badge.svg\" alt=\"Open In Colab\"/></a>"
      ]
    },
    {
      "cell_type": "code",
      "execution_count": 1,
      "id": "73bf3515",
      "metadata": {
        "id": "73bf3515"
      },
      "outputs": [],
      "source": [
        "import json\n",
        "import pandas as pd\n",
        "import matplotlib.pyplot as plt\n",
        "from sklearn.feature_extraction.text import CountVectorizer\n",
        "from sklearn.model_selection import train_test_split\n",
        "import warnings"
      ]
    },
    {
      "cell_type": "markdown",
      "id": "bdb5ee69",
      "metadata": {
        "id": "bdb5ee69"
      },
      "source": [
        "# Task 1: Dataset Preparation & Analysis"
      ]
    },
    {
      "cell_type": "code",
      "execution_count": 3,
      "id": "a48b0f91",
      "metadata": {
        "id": "a48b0f91"
      },
      "outputs": [],
      "source": [
        "with open(\"/content/goemotions.json\") as f:\n",
        "    data = json.load(f)"
      ]
    },
    {
      "cell_type": "code",
      "execution_count": 5,
      "id": "a932cb11",
      "metadata": {
        "colab": {
          "base_uri": "https://localhost:8080/",
          "height": 424
        },
        "id": "a932cb11",
        "outputId": "458b9b4a-bf8d-4c98-8f18-7803713543b7"
      },
      "outputs": [
        {
          "output_type": "execute_result",
          "data": {
            "text/plain": [
              "                                                     Post     Emotion  \\\n",
              "0                                         That game hurt.     sadness   \n",
              "1          You do right, if you don't care then fuck 'em!     neutral   \n",
              "2                                      Man I love reddit.        love   \n",
              "3       [NAME] was nowhere near them, he was by the Fa...     neutral   \n",
              "4       Right? Considering it’s such an important docu...   gratitude   \n",
              "...                                                   ...         ...   \n",
              "171815  Well, I'm glad you're out of all that now. How...         joy   \n",
              "171816                             Everyone likes [NAME].        love   \n",
              "171817  Well when you’ve imported about a gazillion of...      caring   \n",
              "171818                                 That looks amazing  admiration   \n",
              "171819  The FDA has plenty to criticize. But like here...       anger   \n",
              "\n",
              "       Sentiment  \n",
              "0       negative  \n",
              "1        neutral  \n",
              "2       positive  \n",
              "3        neutral  \n",
              "4       positive  \n",
              "...          ...  \n",
              "171815  positive  \n",
              "171816  positive  \n",
              "171817  positive  \n",
              "171818  positive  \n",
              "171819  negative  \n",
              "\n",
              "[171820 rows x 3 columns]"
            ],
            "text/html": [
              "\n",
              "  <div id=\"df-d4bbacc9-dddb-4398-90a5-afe7aeffe95c\">\n",
              "    <div class=\"colab-df-container\">\n",
              "      <div>\n",
              "<style scoped>\n",
              "    .dataframe tbody tr th:only-of-type {\n",
              "        vertical-align: middle;\n",
              "    }\n",
              "\n",
              "    .dataframe tbody tr th {\n",
              "        vertical-align: top;\n",
              "    }\n",
              "\n",
              "    .dataframe thead th {\n",
              "        text-align: right;\n",
              "    }\n",
              "</style>\n",
              "<table border=\"1\" class=\"dataframe\">\n",
              "  <thead>\n",
              "    <tr style=\"text-align: right;\">\n",
              "      <th></th>\n",
              "      <th>Post</th>\n",
              "      <th>Emotion</th>\n",
              "      <th>Sentiment</th>\n",
              "    </tr>\n",
              "  </thead>\n",
              "  <tbody>\n",
              "    <tr>\n",
              "      <th>0</th>\n",
              "      <td>That game hurt.</td>\n",
              "      <td>sadness</td>\n",
              "      <td>negative</td>\n",
              "    </tr>\n",
              "    <tr>\n",
              "      <th>1</th>\n",
              "      <td>You do right, if you don't care then fuck 'em!</td>\n",
              "      <td>neutral</td>\n",
              "      <td>neutral</td>\n",
              "    </tr>\n",
              "    <tr>\n",
              "      <th>2</th>\n",
              "      <td>Man I love reddit.</td>\n",
              "      <td>love</td>\n",
              "      <td>positive</td>\n",
              "    </tr>\n",
              "    <tr>\n",
              "      <th>3</th>\n",
              "      <td>[NAME] was nowhere near them, he was by the Fa...</td>\n",
              "      <td>neutral</td>\n",
              "      <td>neutral</td>\n",
              "    </tr>\n",
              "    <tr>\n",
              "      <th>4</th>\n",
              "      <td>Right? Considering it’s such an important docu...</td>\n",
              "      <td>gratitude</td>\n",
              "      <td>positive</td>\n",
              "    </tr>\n",
              "    <tr>\n",
              "      <th>...</th>\n",
              "      <td>...</td>\n",
              "      <td>...</td>\n",
              "      <td>...</td>\n",
              "    </tr>\n",
              "    <tr>\n",
              "      <th>171815</th>\n",
              "      <td>Well, I'm glad you're out of all that now. How...</td>\n",
              "      <td>joy</td>\n",
              "      <td>positive</td>\n",
              "    </tr>\n",
              "    <tr>\n",
              "      <th>171816</th>\n",
              "      <td>Everyone likes [NAME].</td>\n",
              "      <td>love</td>\n",
              "      <td>positive</td>\n",
              "    </tr>\n",
              "    <tr>\n",
              "      <th>171817</th>\n",
              "      <td>Well when you’ve imported about a gazillion of...</td>\n",
              "      <td>caring</td>\n",
              "      <td>positive</td>\n",
              "    </tr>\n",
              "    <tr>\n",
              "      <th>171818</th>\n",
              "      <td>That looks amazing</td>\n",
              "      <td>admiration</td>\n",
              "      <td>positive</td>\n",
              "    </tr>\n",
              "    <tr>\n",
              "      <th>171819</th>\n",
              "      <td>The FDA has plenty to criticize. But like here...</td>\n",
              "      <td>anger</td>\n",
              "      <td>negative</td>\n",
              "    </tr>\n",
              "  </tbody>\n",
              "</table>\n",
              "<p>171820 rows × 3 columns</p>\n",
              "</div>\n",
              "      <button class=\"colab-df-convert\" onclick=\"convertToInteractive('df-d4bbacc9-dddb-4398-90a5-afe7aeffe95c')\"\n",
              "              title=\"Convert this dataframe to an interactive table.\"\n",
              "              style=\"display:none;\">\n",
              "        \n",
              "  <svg xmlns=\"http://www.w3.org/2000/svg\" height=\"24px\"viewBox=\"0 0 24 24\"\n",
              "       width=\"24px\">\n",
              "    <path d=\"M0 0h24v24H0V0z\" fill=\"none\"/>\n",
              "    <path d=\"M18.56 5.44l.94 2.06.94-2.06 2.06-.94-2.06-.94-.94-2.06-.94 2.06-2.06.94zm-11 1L8.5 8.5l.94-2.06 2.06-.94-2.06-.94L8.5 2.5l-.94 2.06-2.06.94zm10 10l.94 2.06.94-2.06 2.06-.94-2.06-.94-.94-2.06-.94 2.06-2.06.94z\"/><path d=\"M17.41 7.96l-1.37-1.37c-.4-.4-.92-.59-1.43-.59-.52 0-1.04.2-1.43.59L10.3 9.45l-7.72 7.72c-.78.78-.78 2.05 0 2.83L4 21.41c.39.39.9.59 1.41.59.51 0 1.02-.2 1.41-.59l7.78-7.78 2.81-2.81c.8-.78.8-2.07 0-2.86zM5.41 20L4 18.59l7.72-7.72 1.47 1.35L5.41 20z\"/>\n",
              "  </svg>\n",
              "      </button>\n",
              "      \n",
              "  <style>\n",
              "    .colab-df-container {\n",
              "      display:flex;\n",
              "      flex-wrap:wrap;\n",
              "      gap: 12px;\n",
              "    }\n",
              "\n",
              "    .colab-df-convert {\n",
              "      background-color: #E8F0FE;\n",
              "      border: none;\n",
              "      border-radius: 50%;\n",
              "      cursor: pointer;\n",
              "      display: none;\n",
              "      fill: #1967D2;\n",
              "      height: 32px;\n",
              "      padding: 0 0 0 0;\n",
              "      width: 32px;\n",
              "    }\n",
              "\n",
              "    .colab-df-convert:hover {\n",
              "      background-color: #E2EBFA;\n",
              "      box-shadow: 0px 1px 2px rgba(60, 64, 67, 0.3), 0px 1px 3px 1px rgba(60, 64, 67, 0.15);\n",
              "      fill: #174EA6;\n",
              "    }\n",
              "\n",
              "    [theme=dark] .colab-df-convert {\n",
              "      background-color: #3B4455;\n",
              "      fill: #D2E3FC;\n",
              "    }\n",
              "\n",
              "    [theme=dark] .colab-df-convert:hover {\n",
              "      background-color: #434B5C;\n",
              "      box-shadow: 0px 1px 3px 1px rgba(0, 0, 0, 0.15);\n",
              "      filter: drop-shadow(0px 1px 2px rgba(0, 0, 0, 0.3));\n",
              "      fill: #FFFFFF;\n",
              "    }\n",
              "  </style>\n",
              "\n",
              "      <script>\n",
              "        const buttonEl =\n",
              "          document.querySelector('#df-d4bbacc9-dddb-4398-90a5-afe7aeffe95c button.colab-df-convert');\n",
              "        buttonEl.style.display =\n",
              "          google.colab.kernel.accessAllowed ? 'block' : 'none';\n",
              "\n",
              "        async function convertToInteractive(key) {\n",
              "          const element = document.querySelector('#df-d4bbacc9-dddb-4398-90a5-afe7aeffe95c');\n",
              "          const dataTable =\n",
              "            await google.colab.kernel.invokeFunction('convertToInteractive',\n",
              "                                                     [key], {});\n",
              "          if (!dataTable) return;\n",
              "\n",
              "          const docLinkHtml = 'Like what you see? Visit the ' +\n",
              "            '<a target=\"_blank\" href=https://colab.research.google.com/notebooks/data_table.ipynb>data table notebook</a>'\n",
              "            + ' to learn more about interactive tables.';\n",
              "          element.innerHTML = '';\n",
              "          dataTable['output_type'] = 'display_data';\n",
              "          await google.colab.output.renderOutput(dataTable, element);\n",
              "          const docLink = document.createElement('div');\n",
              "          docLink.innerHTML = docLinkHtml;\n",
              "          element.appendChild(docLink);\n",
              "        }\n",
              "      </script>\n",
              "    </div>\n",
              "  </div>\n",
              "  "
            ]
          },
          "metadata": {},
          "execution_count": 5
        }
      ],
      "source": [
        "# importing the json file into a dataframe \n",
        "df = pd.DataFrame(data, columns = ['Post', 'Emotion', 'Sentiment'])\n",
        "df"
      ]
    },
    {
      "cell_type": "code",
      "execution_count": 6,
      "id": "a9465e8f",
      "metadata": {
        "id": "a9465e8f"
      },
      "outputs": [],
      "source": [
        "postsDict = df['Post'].values.tolist()"
      ]
    },
    {
      "cell_type": "code",
      "execution_count": 7,
      "id": "06f7dc05",
      "metadata": {
        "id": "06f7dc05"
      },
      "outputs": [],
      "source": [
        "# Returns the count of all 28 emotions, and stores it in countEmotions\n",
        "countEmotions = df['Emotion'].value_counts()\n",
        "# Turning the counts into a dictionary of pairs \n",
        "emotionsDict = countEmotions.to_dict()\n",
        "# emotionsDict"
      ]
    },
    {
      "cell_type": "code",
      "execution_count": 8,
      "id": "78cc345a",
      "metadata": {
        "id": "78cc345a"
      },
      "outputs": [],
      "source": [
        "# Returns the count of all 4 sentiments, and stores it in countSentiments\n",
        "countSentiments = df['Sentiment'].value_counts()\n",
        "# Turning the sentiment count into a dictionary of pairs \n",
        "sentimentsDict = countSentiments.to_dict()\n",
        "# sentimentsDict"
      ]
    },
    {
      "cell_type": "code",
      "execution_count": null,
      "id": "5e765e45",
      "metadata": {
        "id": "5e765e45"
      },
      "outputs": [],
      "source": [
        "# # Stores emotions into a list\n",
        "# emotion = df['Emotion'].tolist()\n",
        "# # Removes emotions duplicate from the list\n",
        "# emotion = list(dict.fromkeys(emotion))"
      ]
    },
    {
      "cell_type": "code",
      "execution_count": null,
      "id": "7ae56ca2",
      "metadata": {
        "id": "7ae56ca2"
      },
      "outputs": [],
      "source": [
        "# # Stores sentiments into a list\n",
        "# sentiment = df['Sentiment'].tolist()\n",
        "# # Removes sentiments duplicate from the list\n",
        "# sentiment = list(dict.fromkeys(sentiment))"
      ]
    },
    {
      "cell_type": "code",
      "execution_count": 9,
      "id": "69e54002",
      "metadata": {
        "scrolled": false,
        "colab": {
          "base_uri": "https://localhost:8080/",
          "height": 351
        },
        "id": "69e54002",
        "outputId": "3c7dd8fa-bdac-4b53-c6c4-91d323a110db"
      },
      "outputs": [
        {
          "output_type": "display_data",
          "data": {
            "text/plain": [
              "<Figure size 432x288 with 1 Axes>"
            ],
            "image/png": "[encoded data removed]"
          },
          "metadata": {
            "needs_background": "light"
          }
        },
        {
          "output_type": "display_data",
          "data": {
            "text/plain": [
              "<Figure size 432x288 with 0 Axes>"
            ]
          },
          "metadata": {}
        }
      ],
      "source": [
        "# Printing histogram for emotions\n",
        "plt.bar(emotionsDict.keys(), emotionsDict.values())\n",
        "# 90 degree roration on x-axis labels\n",
        "plt.xticks(rotation = 90)\n",
        "plt.show()\n",
        "plt.savefig('emotion-plot.pdf')"
      ]
    },
    {
      "cell_type": "code",
      "execution_count": 10,
      "id": "531d08d3",
      "metadata": {
        "colab": {
          "base_uri": "https://localhost:8080/",
          "height": 282
        },
        "id": "531d08d3",
        "outputId": "a1a0e2f7-d463-4276-cf91-2dc08301fe6b"
      },
      "outputs": [
        {
          "output_type": "display_data",
          "data": {
            "text/plain": [
              "<Figure size 432x288 with 1 Axes>"
            ],
            "image/png": "[encoded data removed]"
          },
          "metadata": {
            "needs_background": "light"
          }
        },
        {
          "output_type": "display_data",
          "data": {
            "text/plain": [
              "<Figure size 432x288 with 0 Axes>"
            ]
          },
          "metadata": {}
        }
      ],
      "source": [
        "# Printing sentiments in histogram\n",
        "plt.bar(sentimentsDict.keys(), sentimentsDict.values())\n",
        "plt.show()\n",
        "plt.savefig('sentiment-plot.png')"
      ]
    },
    {
      "cell_type": "markdown",
      "id": "a8b4f018",
      "metadata": {
        "id": "a8b4f018"
      },
      "source": [
        "# Task 2: Words as Features"
      ]
    },
    {
      "cell_type": "code",
      "execution_count": 14,
      "id": "c8aa3310",
      "metadata": {
        "colab": {
          "base_uri": "https://localhost:8080/"
        },
        "id": "c8aa3310",
        "outputId": "445c5430-1d98-41fe-8a9f-d7ccf1c38c5a"
      },
      "outputs": [
        {
          "output_type": "stream",
          "name": "stdout",
          "text": [
            "The size of the vocabulary is 30449 words.\n"
          ]
        }
      ],
      "source": [
        "# 2.1 --display the number of tokens (the size of the vocabulary) in the dataset\n",
        "\n",
        "vectorizer = CountVectorizer()\n",
        "post = vectorizer.fit_transform(postsDict)\n",
        "print(f'The size of the vocabulary is {vectorizer.get_feature_names_out().shape[0]} words.')"
      ]
    },
    {
      "cell_type": "code",
      "execution_count": 12,
      "id": "059c2ca5",
      "metadata": {
        "id": "059c2ca5"
      },
      "outputs": [],
      "source": [
        "# 2.2 --split the dataset into 80% for training and 20% for testing\n",
        "post_train, post_test,emotion_train, emotion_test, sentiment_train, sentiment_test = train_test_split(post,df['Emotion'], df['Sentiment'], test_size=0.2)"
      ]
    },
    {
      "cell_type": "code",
      "execution_count": null,
      "id": "6bbcbe3a",
      "metadata": {
        "id": "6bbcbe3a"
      },
      "outputs": [],
      "source": [
        "# 2.3 --train and test for both the emotion and sentiment classification using word frequency as features"
      ]
    },
    {
      "cell_type": "code",
      "execution_count": 13,
      "id": "bbfadb24",
      "metadata": {
        "colab": {
          "base_uri": "https://localhost:8080/"
        },
        "id": "bbfadb24",
        "outputId": "d41eae6f-a75a-4355-87dc-22d539283c92"
      },
      "outputs": [
        {
          "output_type": "stream",
          "name": "stdout",
          "text": [
            "CPU times: user 1.12 s, sys: 21.1 ms, total: 1.15 s\n",
            "Wall time: 1.15 s\n",
            "CPU times: user 882 ms, sys: 6.83 ms, total: 889 ms\n",
            "Wall time: 889 ms\n"
          ]
        },
        {
          "output_type": "execute_result",
          "data": {
            "text/plain": [
              "MultinomialNB()"
            ]
          },
          "metadata": {},
          "execution_count": 13
        }
      ],
      "source": [
        "# 2.3.1 --Base-MNB with the default parameters\n",
        "from sklearn.naive_bayes import MultinomialNB\n",
        "mnb = MultinomialNB()\n",
        "%time mnb.fit(post_train, emotion_train)\n",
        "%time mnb.fit(post_train, sentiment_train)"
      ]
    },
    {
      "cell_type": "code",
      "execution_count": null,
      "id": "db813a5b",
      "metadata": {
        "colab": {
          "base_uri": "https://localhost:8080/"
        },
        "id": "db813a5b",
        "outputId": "5c71e08e-9b52-4d67-e910-53339da4c12f"
      },
      "outputs": [
        {
          "output_type": "stream",
          "name": "stdout",
          "text": [
            "CPU times: user 2min 9s, sys: 170 ms, total: 2min 10s\n",
            "Wall time: 2min 9s\n",
            "CPU times: user 1min 52s, sys: 106 ms, total: 1min 53s\n",
            "Wall time: 1min 52s\n"
          ]
        },
        {
          "output_type": "execute_result",
          "data": {
            "text/plain": [
              "DecisionTreeClassifier()"
            ]
          },
          "metadata": {},
          "execution_count": 25
        }
      ],
      "source": [
        "# 2.3.2 --Base-DT with the default parameters\n",
        "from sklearn.tree import DecisionTreeClassifier\n",
        "from sklearn.model_selection import cross_val_score\n",
        "dt = DecisionTreeClassifier()\n",
        "%time dt.fit(post_train, emotion_train)\n",
        "%time dt.fit(post_train, sentiment_train)"
      ]
    },
    {
      "cell_type": "code",
      "execution_count": null,
      "id": "961e38c4",
      "metadata": {
        "colab": {
          "base_uri": "https://localhost:8080/"
        },
        "id": "961e38c4",
        "outputId": "97abf446-4f36-4d75-9ac9-25e5db5a570f"
      },
      "outputs": [
        {
          "output_type": "stream",
          "name": "stdout",
          "text": [
            "CPU times: user 11min 50s, sys: 9min 4s, total: 20min 54s\n",
            "Wall time: 10min 53s\n",
            "CPU times: user 12min 17s, sys: 9min 27s, total: 21min 45s\n",
            "Wall time: 11min 19s\n"
          ]
        },
        {
          "output_type": "execute_result",
          "data": {
            "text/plain": [
              "MLPClassifier(early_stopping=True, max_iter=15)"
            ]
          },
          "metadata": {},
          "execution_count": 14
        }
      ],
      "source": [
        "#2.3.3 --Base-MLP with the default parameters\n",
        "from sklearn.neural_network import MLPClassifier\n",
        "mlp = MLPClassifier(early_stopping=True, max_iter=15)\n",
        "%time mlp.fit(post_train, emotion_train)\n",
        "%time mlp.fit(post_train, sentiment_train)"
      ]
    },
    {
      "cell_type": "code",
      "execution_count": null,
      "id": "0eb93a86",
      "metadata": {
        "colab": {
          "base_uri": "https://localhost:8080/"
        },
        "id": "0eb93a86",
        "outputId": "a68ec42f-9d9c-4598-e5e9-2dc9c43f6f14"
      },
      "outputs": [
        {
          "output_type": "stream",
          "name": "stdout",
          "text": [
            "CPU times: user 26.5 s, sys: 139 ms, total: 26.6 s\n",
            "Wall time: 26.7 s\n",
            "CPU times: user 19.6 s, sys: 103 ms, total: 19.7 s\n",
            "Wall time: 19.7 s\n"
          ]
        },
        {
          "output_type": "execute_result",
          "data": {
            "text/plain": [
              "GridSearchCV(estimator=MultinomialNB(),\n",
              "             param_grid={'alpha': [0.5, 0, 1.0, 1.5]})"
            ]
          },
          "metadata": {},
          "execution_count": 48
        }
      ],
      "source": [
        "#2.3.4 --Top-MNB using GridSearchCV\n",
        "warnings.simplefilter('ignore', UserWarning)\n",
        "from sklearn.model_selection import GridSearchCV\n",
        "param = {'alpha' : [0.5, 0, 1.0, 1.5]}\n",
        "mnb_gscv = GridSearchCV(MultinomialNB(), param)\n",
        "%time mnb_gscv.fit(post_train, emotion_train)\n",
        "%time mnb_gscv.fit(post_train, sentiment_train)"
      ]
    },
    {
      "cell_type": "code",
      "source": [
        "#2.3.5 --Top-DT using GridSearchCV\n",
        "from sklearn.model_selection import GridSearchCV\n",
        "param = {'criterion' : ['gini', 'entropy'], 'max_depth' : [18,36], 'min_samples_split' : [3,6,9]}\n",
        "dt_gscv = GridSearchCV(DecisionTreeClassifier(), param)\n",
        "%time dt_gscv.fit(post_train, emotion_train)\n",
        "%time dt_gscv.fit(post_train, sentiment_train)\n",
        "\n"
      ],
      "metadata": {
        "colab": {
          "base_uri": "https://localhost:8080/"
        },
        "id": "cnSXMVEzG9lB",
        "outputId": "648537fb-307b-40e4-afb9-e93195c19bfd"
      },
      "id": "cnSXMVEzG9lB",
      "execution_count": null,
      "outputs": [
        {
          "output_type": "stream",
          "name": "stdout",
          "text": [
            "CPU times: user 8min 40s, sys: 819 ms, total: 8min 41s\n",
            "Wall time: 8min 40s\n",
            "CPU times: user 7min 12s, sys: 681 ms, total: 7min 12s\n",
            "Wall time: 7min 12s\n"
          ]
        },
        {
          "output_type": "execute_result",
          "data": {
            "text/plain": [
              "GridSearchCV(estimator=DecisionTreeClassifier(),\n",
              "             param_grid={'criterion': ['gini', 'entropy'],\n",
              "                         'max_depth': [18, 36],\n",
              "                         'min_samples_split': [3, 6, 9]})"
            ]
          },
          "metadata": {},
          "execution_count": 50
        }
      ]
    },
    {
      "cell_type": "code",
      "source": [
        "#2.3.6 --Top-MLP using GridSearchCV\n",
        "from sklearn.exceptions import ConvergenceWarning\n",
        "warnings.simplefilter('ignore', ConvergenceWarning)\n",
        "from sklearn.model_selection import GridSearchCV\n",
        "param = {'activation' : ['logistic', 'tanh', 'relu', 'identity'], 'hidden_layer_sizes' : [(10,30,10), (50, 30)], 'solver' : ['adam', 'sgd']}\n",
        "mlp_gscv = GridSearchCV(MLPClassifier(early_stopping=True, max_iter=1, verbose=True), param)\n",
        "%time mlp_gscv.fit(post_train, emotion_train)\n",
        "%time mlp_gscv.fit(post_train, sentiment_train)"
      ],
      "metadata": {
        "id": "uqL3UnfUHNV_"
      },
      "id": "uqL3UnfUHNV_",
      "execution_count": null,
      "outputs": []
    },
    {
      "cell_type": "code",
      "source": [
        "#2.4 --save info required  in a file called \"performance\"\n",
        "from sklearn import metrics\n",
        "import numpy as np"
      ],
      "metadata": {
        "id": "F4Eec9IzFC7N"
      },
      "id": "F4Eec9IzFC7N",
      "execution_count": null,
      "outputs": []
    },
    {
      "cell_type": "code",
      "source": [
        "#2.4: Base-MNB\n",
        "#emotion\n",
        "with open('performance.txt', 'a') as performance:\n",
        "  print('Base-MNB: Emotion Classification', mnb, file=performance)\n",
        "  emotion_pred = mnb.fit(post_train, emotion_train).predict(post_test)\n",
        "  print('Emotion Prediction: \\n',emotion_pred, file=performance)\n",
        "  ecm = metrics.confusion_matrix(emotion_test, emotion_pred)\n",
        "  print('Emotion Confusion Matrix: \\n',ecm, file=performance)\n",
        "  ecr = metrics.classification_report(emotion_test,emotion_pred,labels=np.unique(emotion_test), zero_division=0)\n",
        "  print('Emotion Classification Report: \\n',ecr, file=performance)\n",
        "\n",
        "#sentiment\n",
        "  print('Base-MNB: Sentiment Classification', mnb, file=performance)\n",
        "  sentiment_pred = mnb.fit(post_train, sentiment_train).predict(post_test)\n",
        "  print('Sentiment Prediction: \\n',sentiment_pred, file=performance)\n",
        "  scm = metrics.confusion_matrix(sentiment_test, sentiment_pred)\n",
        "  print('Sentiment Confusion Matrix: \\n',scm, file=performance)\n",
        "  scr = metrics.classification_report(sentiment_test,sentiment_pred,labels=np.unique(sentiment_test), zero_division=0)\n",
        "  print('Sentiment Classification Report: \\n',scr, file=performance)\n"
      ],
      "metadata": {
        "id": "tkDAMFUEWVRR"
      },
      "id": "tkDAMFUEWVRR",
      "execution_count": null,
      "outputs": []
    },
    {
      "cell_type": "code",
      "source": [
        "#2.4: Base-DT\n",
        "#emotion\n",
        "with open('performance.txt', 'a') as performance:\n",
        "  print('Base-DT: Emotion Classification', dt, file=performance)\n",
        "  emotion_pred = dt.fit(post_train, emotion_train).predict(post_test)\n",
        "  print('Emotion Prediction: \\n',emotion_pred, file=performance)\n",
        "  ecm = metrics.confusion_matrix(emotion_test, emotion_pred)\n",
        "  print('Emotion Confusion Matrix: \\n',ecm, file=performance)\n",
        "  ecr = metrics.classification_report(emotion_test,emotion_pred,labels=np.unique(emotion_test), zero_division=0)\n",
        "  print('Emotion Classification Report: \\n',ecr, file=performance)\n",
        "\n",
        "#sentiment\n",
        "  print('Base-DT: Sentiment Classification', dt, file=performance)\n",
        "  sentiment_pred = dt.fit(post_train, sentiment_train).predict(post_test)\n",
        "  print('Sentiment Prediction: \\n',sentiment_pred, file=performance)\n",
        "  scm = metrics.confusion_matrix(sentiment_test, sentiment_pred)\n",
        "  print('Sentiment Confusion Matrix: \\n',scm, file=performance)\n",
        "  scr = metrics.classification_report(sentiment_test,sentiment_pred,labels=np.unique(sentiment_test), zero_division=0)\n",
        "  print('Sentiment Classification Report: \\n',scr, file=performance)"
      ],
      "metadata": {
        "id": "S4_gm-lZWujw"
      },
      "id": "S4_gm-lZWujw",
      "execution_count": null,
      "outputs": []
    },
    {
      "cell_type": "code",
      "source": [
        "#2.4: Base-MLP\n",
        "#emotion\n",
        "with open('performance.txt', 'a') as performance:\n",
        "  print('Base-MLP: Emotion Classification', mlp, file=performance)\n",
        "  emotion_pred = mlp.fit(post_train, emotion_train).predict(post_test)\n",
        "  print('Emotion Prediction: \\n',emotion_pred, file=performance)\n",
        "  ecm = metrics.confusion_matrix(emotion_test, emotion_pred)\n",
        "  print('Emotion Confusion Matrix: \\n',ecm, file=performance)\n",
        "  ecr = metrics.classification_report(emotion_test,emotion_pred,labels=np.unique(emotion_test), zero_division=0)\n",
        "  print('Emotion Classification Report: \\n',ecr, file=performance)\n",
        "\n",
        "#sentiment\n",
        "  print('Base-MLP: Sentiment Classification', mlp, file=performance)\n",
        "  sentiment_pred = mlp.fit(post_train, sentiment_train).predict(post_test)\n",
        "  print('Sentiment Prediction: \\n',sentiment_pred, file=performance)\n",
        "  scm = metrics.confusion_matrix(sentiment_test, sentiment_pred)\n",
        "  print('Sentiment Confusion Matrix: \\n',scm, file=performance)\n",
        "  scr = metrics.classification_report(sentiment_test,sentiment_pred,labels=np.unique(sentiment_test), zero_division=0)\n",
        "  print('Sentiment Classification Report: \\n',scr, file=performance)"
      ],
      "metadata": {
        "id": "C74xNeXj0ZtG"
      },
      "id": "C74xNeXj0ZtG",
      "execution_count": null,
      "outputs": []
    },
    {
      "cell_type": "code",
      "source": [
        "#2.4: Top-MNB\n",
        "#emotion\n",
        "with open('performance.txt', 'a') as performance:\n",
        "  print('Top-MNB: Emotion Classification', mnb_gscv, file=performance)\n",
        "  emotion_pred = mnb_gscv.fit(post_train, emotion_train).predict(post_test)\n",
        "  print('Emotion Prediction: \\n',emotion_pred, file=performance)\n",
        "  ecm = metrics.confusion_matrix(emotion_test, emotion_pred)\n",
        "  print('Emotion Confusion Matrix: \\n',ecm, file=performance)\n",
        "  ecr = metrics.classification_report(emotion_test,emotion_pred,labels=np.unique(emotion_test), zero_division=0)\n",
        "  print('Emotion Classification Report: \\n',ecr, file=performance)\n",
        "\n",
        "#sentiment\n",
        "  print('Top-MNB: Sentiment Classification', mnb_gscv, file=performance)\n",
        "  sentiment_pred = mnb_gscv.fit(post_train, sentiment_train).predict(post_test)\n",
        "  print('Sentiment Prediction: \\n',sentiment_pred, file=performance)\n",
        "  scm = metrics.confusion_matrix(sentiment_test, sentiment_pred)\n",
        "  print('Sentiment Confusion Matrix: \\n',scm, file=performance)\n",
        "  scr = metrics.classification_report(sentiment_test,sentiment_pred,labels=np.unique(sentiment_test), zero_division=0)\n",
        "  print('Sentiment Classification Report: \\n',scr, file=performance)"
      ],
      "metadata": {
        "id": "wA7541REWu_9"
      },
      "id": "wA7541REWu_9",
      "execution_count": null,
      "outputs": []
    },
    {
      "cell_type": "code",
      "source": [
        "#2.4: Top-DT\n",
        "#emotion\n",
        "with open('performance.txt', 'a') as performance:\n",
        "  print('Top-DT: Emotion Classification', dt_gscv, file=performance)\n",
        "  emotion_pred = dt_gscv.fit(post_train, emotion_train).predict(post_test)\n",
        "  print('Emotion Prediction: \\n',emotion_pred, file=performance)\n",
        "  ecm = metrics.confusion_matrix(emotion_test, emotion_pred)\n",
        "  print('Emotion Confusion Matrix: \\n',ecm, file=performance)\n",
        "  ecr = metrics.classification_report(emotion_test,emotion_pred,labels=np.unique(emotion_test), zero_division=0)\n",
        "  print('Emotion Classification Report: \\n',ecr, file=performance)\n",
        "\n",
        "#sentiment\n",
        "  print('Top-DT: Sentiment Classification', dt_gscv, file=performance)\n",
        "  sentiment_pred = dt_gscv.fit(post_train, sentiment_train).predict(post_test)\n",
        "  print('Sentiment Prediction: \\n',sentiment_pred, file=performance)\n",
        "  scm = metrics.confusion_matrix(sentiment_test, sentiment_pred)\n",
        "  print('Sentiment Confusion Matrix: \\n',scm, file=performance)\n",
        "  scr = metrics.classification_report(sentiment_test,sentiment_pred,labels=np.unique(sentiment_test), zero_division=0)\n",
        "  print('Sentiment Classification Report: \\n',scr, file=performance)"
      ],
      "metadata": {
        "id": "DgVYnvT7WvQ3"
      },
      "id": "DgVYnvT7WvQ3",
      "execution_count": null,
      "outputs": []
    },
    {
      "cell_type": "code",
      "source": [
        "#2.4: Top-MLP\n",
        "#emotion\n",
        "with open('performance.txt', 'a') as performance:\n",
        "  print('Top-MLP: Emotion Classification', mlp_gscv, file=performance)\n",
        "  emotion_pred = mlp_gscv.fit(post_train, emotion_train).predict(post_test)\n",
        "  print('Emotion Prediction: \\n',emotion_pred, file=performance)\n",
        "  ecm = metrics.confusion_matrix(emotion_test, emotion_pred)\n",
        "  print('Emotion Confusion Matrix: \\n',ecm, file=performance)\n",
        "  ecr = metrics.classification_report(emotion_test,emotion_pred,labels=np.unique(emotion_test), zero_division=0)\n",
        "  print('Emotion Classification Report: \\n',ecr, file=performance)\n",
        "\n",
        "#sentiment\n",
        "  print('Top-MLP: Sentiment Classification', mlp_gscv, file=performance)\n",
        "  sentiment_pred = mlp_gscv.fit(post_train, sentiment_train).predict(post_test)\n",
        "  print('Sentiment Prediction: \\n',sentiment_pred, file=performance)\n",
        "  scm = metrics.confusion_matrix(sentiment_test, sentiment_pred)\n",
        "  print('Sentiment Confusion Matrix: \\n',scm, file=performance)\n",
        "  scr = metrics.classification_report(sentiment_test,sentiment_pred,labels=np.unique(sentiment_test), zero_division=0)\n",
        "  print('Sentiment Classification Report: \\n',scr, file=performance)"
      ],
      "metadata": {
        "id": "0xZMd5-zWvb5"
      },
      "id": "0xZMd5-zWvb5",
      "execution_count": null,
      "outputs": []
    },
    {
      "cell_type": "code",
      "source": [
        "#2.5: TfidfTransformer-train and test for both the emotion and sentiment classification\n",
        "from sklearn.feature_extraction.text import TfidfTransformer\n",
        "transformer = TfidfTransformer()\n",
        "post_tfidf = transformer.fit_transform(post)\n",
        "#split the dataset into 80% for training and 20% for testing\n",
        "post_train, post_test,emotion_train, emotion_test, sentiment_train, sentiment_test = train_test_split(post_tfidf,df['Emotion'], df['Sentiment'], test_size=0.2)"
      ],
      "metadata": {
        "id": "DwRm1CjOEKxb"
      },
      "id": "DwRm1CjOEKxb",
      "execution_count": 16,
      "outputs": []
    },
    {
      "cell_type": "code",
      "source": [
        "#Base-MNB\n",
        "from sklearn.naive_bayes import MultinomialNB\n",
        "with open('experiment.txt', 'a') as exp:\n",
        "  mnb = MultinomialNB()\n",
        "  emnb = %time mnb.fit(post_train, emotion_train)\n",
        "  smnb = %time mnb.fit(post_train, sentiment_train)\n",
        "  print('Emotion Base-MNB', emnb, file=exp)\n",
        "  print('Sentiment Base-MNB', smnb, file=exp)"
      ],
      "metadata": {
        "id": "QnUI90G5wDm5",
        "outputId": "68233ccd-a98f-4059-9551-d7fb62aa3458",
        "colab": {
          "base_uri": "https://localhost:8080/"
        }
      },
      "id": "QnUI90G5wDm5",
      "execution_count": 17,
      "outputs": [
        {
          "output_type": "stream",
          "name": "stdout",
          "text": [
            "CPU times: user 1.95 s, sys: 9.85 ms, total: 1.96 s\n",
            "Wall time: 1.97 s\n",
            "CPU times: user 1.73 s, sys: 7.46 ms, total: 1.74 s\n",
            "Wall time: 1.75 s\n"
          ]
        }
      ]
    },
    {
      "cell_type": "code",
      "source": [
        "#Base-DT\n",
        "from sklearn.tree import DecisionTreeClassifier\n",
        "from sklearn.model_selection import cross_val_score\n",
        "with open('experiment.txt', 'a') as exp:\n",
        "  dt = DecisionTreeClassifier()\n",
        "  edt = %time dt.fit(post_train, emotion_train)\n",
        "  sdt = %time dt.fit(post_train, sentiment_train)\n",
        "  print('Emotion Base-DT', edt, file=exp)\n",
        "  print('Sentiment Base-DT', sdt, file=exp)"
      ],
      "metadata": {
        "id": "mjKROPYZwDyf",
        "outputId": "105015fa-a18f-4526-e833-4e28a5fb81fb",
        "colab": {
          "base_uri": "https://localhost:8080/"
        }
      },
      "id": "mjKROPYZwDyf",
      "execution_count": 18,
      "outputs": [
        {
          "output_type": "stream",
          "name": "stdout",
          "text": [
            "CPU times: user 2min 34s, sys: 139 ms, total: 2min 34s\n",
            "Wall time: 2min 35s\n",
            "CPU times: user 2min 14s, sys: 166 ms, total: 2min 14s\n",
            "Wall time: 2min 14s\n"
          ]
        }
      ]
    },
    {
      "cell_type": "code",
      "source": [
        "#Base-MLP\n",
        "from sklearn.neural_network import MLPClassifier\n",
        "with open('experiment.txt', 'a') as exp:\n",
        "  mlp = MLPClassifier(early_stopping=True, max_iter=15)\n",
        "  emlp = %time mlp.fit(post_train, emotion_train)\n",
        "  smlp = %time mlp.fit(post_train, sentiment_train)\n",
        "  print('Emotion Base-MLP', emlp, file=exp)\n",
        "  print('Sentiment Base-MLP', smlp, file=exp)"
      ],
      "metadata": {
        "id": "VwqzVYtlwD79",
        "outputId": "8c805c57-383e-4179-fbdb-c3dadae5101b",
        "colab": {
          "base_uri": "https://localhost:8080/"
        }
      },
      "id": "VwqzVYtlwD79",
      "execution_count": 19,
      "outputs": [
        {
          "output_type": "stream",
          "name": "stdout",
          "text": [
            "CPU times: user 14min 15s, sys: 13min 1s, total: 27min 17s\n",
            "Wall time: 14min 20s\n",
            "CPU times: user 12min 39s, sys: 11min 35s, total: 24min 14s\n",
            "Wall time: 12min 42s\n"
          ]
        }
      ]
    },
    {
      "cell_type": "code",
      "source": [
        "#Top-MNB\n",
        "warnings.simplefilter('ignore', UserWarning)\n",
        "from sklearn.model_selection import GridSearchCV\n",
        "with open('experiment.txt', 'a') as exp:\n",
        "  param = {'alpha' : [0.5, 0, 1.0, 1.5]}\n",
        "  mnb_gscv = GridSearchCV(MultinomialNB(), param)\n",
        "  emnb_gscv = %time mnb_gscv.fit(post_train, emotion_train)\n",
        "  smnb_gscv = %time mnb_gscv.fit(post_train, sentiment_train)\n",
        "  print('Emotion Top-MNB', emnb_gscv, file=exp)\n",
        "  print('Sentiment Top-MNB', smnb_gscv, file=exp)"
      ],
      "metadata": {
        "id": "0Ob7ZnC-wEFz",
        "outputId": "e8861bae-fbda-4fec-a5d6-1ef27476702c",
        "colab": {
          "base_uri": "https://localhost:8080/"
        }
      },
      "id": "0Ob7ZnC-wEFz",
      "execution_count": 20,
      "outputs": [
        {
          "output_type": "stream",
          "name": "stdout",
          "text": [
            "CPU times: user 31.7 s, sys: 227 ms, total: 31.9 s\n",
            "Wall time: 31.9 s\n",
            "CPU times: user 24.7 s, sys: 185 ms, total: 24.9 s\n",
            "Wall time: 24.8 s\n"
          ]
        }
      ]
    },
    {
      "cell_type": "code",
      "source": [
        "#Top-DT\n",
        "from sklearn.model_selection import GridSearchCV\n",
        "with open('experiment.txt', 'a') as exp:\n",
        "  param = {'criterion' : ['gini', 'entropy'], 'max_depth' : [18,36], 'min_samples_split' : [3,6,9]}\n",
        "  dt_gscv = GridSearchCV(DecisionTreeClassifier(), param)\n",
        "  edt_gscv = %time dt_gscv.fit(post_train, emotion_train)\n",
        "  sdt_gscv = %time dt_gscv.fit(post_train, sentiment_train)\n",
        "  print('Emotion Top-DT', edt_gscv, file=exp)\n",
        "  print('Sentiment Top-DT', sdt_gscv, file=exp)"
      ],
      "metadata": {
        "id": "7gtGay1kwEVG",
        "outputId": "bfd6a0ac-4f65-480c-ccc1-f6af62baccdf",
        "colab": {
          "base_uri": "https://localhost:8080/"
        }
      },
      "id": "7gtGay1kwEVG",
      "execution_count": 21,
      "outputs": [
        {
          "output_type": "stream",
          "name": "stdout",
          "text": [
            "CPU times: user 22min 19s, sys: 1.87 s, total: 22min 21s\n",
            "Wall time: 22min 17s\n",
            "CPU times: user 13min 10s, sys: 1.18 s, total: 13min 11s\n",
            "Wall time: 13min 8s\n"
          ]
        }
      ]
    },
    {
      "cell_type": "code",
      "source": [
        "#Top-MLP\n",
        "from sklearn.exceptions import ConvergenceWarning\n",
        "warnings.simplefilter('ignore', ConvergenceWarning)\n",
        "from sklearn.model_selection import GridSearchCV\n",
        "with open('experiment.txt', 'a') as exp:\n",
        "  param = {'activation' : ['logistic', 'tanh', 'relu', 'identity'], 'hidden_layer_sizes' : [(10,30,10), (50, 30)], 'solver' : ['adam', 'sgd']}\n",
        "  mlp_gscv = GridSearchCV(MLPClassifier(early_stopping=True, max_iter=1, verbose=True), param)\n",
        "  emlp_gscv = %time mlp_gscv.fit(post_train, emotion_train)\n",
        "  smlp_gscv = %time mlp_gscv.fit(post_train, sentiment_train)\n",
        "  print('Emotion Top-MLP', emlp_gscv, file=exp)\n",
        "  print('Sentiment Top-MLP', smlp_gscv, file=exp)"
      ],
      "metadata": {
        "id": "hpQTe4VBwElG",
        "outputId": "c51fa786-ea95-4db0-cc09-6c284efd0cc9",
        "colab": {
          "base_uri": "https://localhost:8080/"
        }
      },
      "id": "hpQTe4VBwElG",
      "execution_count": 22,
      "outputs": [
        {
          "output_type": "stream",
          "name": "stdout",
          "text": [
            "Iteration 1, loss = 2.81170166\n",
            "Validation score: 0.324270\n",
            "Iteration 1, loss = 2.85599873\n",
            "Validation score: 0.319905\n",
            "Iteration 1, loss = 2.83447757\n",
            "Validation score: 0.322179\n",
            "Iteration 1, loss = 2.80497344\n",
            "Validation score: 0.322452\n",
            "Iteration 1, loss = 2.83855694\n",
            "Validation score: 0.317086\n",
            "Iteration 1, loss = 2.97651286\n",
            "Validation score: 0.322997\n",
            "Iteration 1, loss = 2.92808480\n",
            "Validation score: 0.320451\n",
            "Iteration 1, loss = 2.91834673\n",
            "Validation score: 0.322361\n",
            "Iteration 1, loss = 2.96016932\n",
            "Validation score: 0.316541\n",
            "Iteration 1, loss = 2.92245379\n",
            "Validation score: 0.317905\n",
            "Iteration 1, loss = 2.73917603\n",
            "Validation score: 0.326635\n",
            "Iteration 1, loss = 2.76416830\n",
            "Validation score: 0.317268\n",
            "Iteration 1, loss = 2.74765897\n",
            "Validation score: 0.324452\n",
            "Iteration 1, loss = 2.74910342\n",
            "Validation score: 0.324179\n",
            "Iteration 1, loss = 2.77162876\n",
            "Validation score: 0.319451\n",
            "Iteration 1, loss = 2.88494353\n",
            "Validation score: 0.315086\n",
            "Iteration 1, loss = 2.83524657\n",
            "Validation score: 0.318269\n",
            "Iteration 1, loss = 2.83658925\n",
            "Validation score: 0.322452\n",
            "Iteration 1, loss = 2.83891600\n",
            "Validation score: 0.319269\n",
            "Iteration 1, loss = 2.83445648\n",
            "Validation score: 0.322633\n",
            "Iteration 1, loss = 2.71940364\n",
            "Validation score: 0.368646\n",
            "Iteration 1, loss = 2.74757061\n",
            "Validation score: 0.347549\n",
            "Iteration 1, loss = 2.72657220\n",
            "Validation score: 0.363099\n",
            "Iteration 1, loss = 2.77054494\n",
            "Validation score: 0.352096\n",
            "Iteration 1, loss = 2.73318959\n",
            "Validation score: 0.361735\n",
            "Iteration 1, loss = 2.98194312\n",
            "Validation score: 0.321815\n",
            "Iteration 1, loss = 2.92416929\n",
            "Validation score: 0.320087\n",
            "Iteration 1, loss = 2.93613777\n",
            "Validation score: 0.317996\n",
            "Iteration 1, loss = 2.93295505\n",
            "Validation score: 0.316996\n",
            "Iteration 1, loss = 2.92890050\n",
            "Validation score: 0.326453\n",
            "Iteration 1, loss = 2.54519469\n",
            "Validation score: 0.404656\n",
            "Iteration 1, loss = 2.55479706\n",
            "Validation score: 0.403110\n",
            "Iteration 1, loss = 2.52984891\n",
            "Validation score: 0.408202\n",
            "Iteration 1, loss = 2.53122815\n",
            "Validation score: 0.406838\n",
            "Iteration 1, loss = 2.57120322\n",
            "Validation score: 0.407111\n",
            "Iteration 1, loss = 2.93587085\n",
            "Validation score: 0.314904\n",
            "Iteration 1, loss = 2.94423437\n",
            "Validation score: 0.313722\n",
            "Iteration 1, loss = 2.89946266\n",
            "Validation score: 0.322270\n",
            "Iteration 1, loss = 2.91886334\n",
            "Validation score: 0.325452\n",
            "Iteration 1, loss = 2.90481194\n",
            "Validation score: 0.328453\n",
            "Iteration 1, loss = 2.81346007\n",
            "Validation score: 0.327726\n",
            "Iteration 1, loss = 2.77633943\n",
            "Validation score: 0.357279\n",
            "Iteration 1, loss = 2.78834041\n",
            "Validation score: 0.335455\n",
            "Iteration 1, loss = 2.73560480\n",
            "Validation score: 0.358189\n",
            "Iteration 1, loss = 2.73717896\n",
            "Validation score: 0.367009\n",
            "Iteration 1, loss = 3.27411777\n",
            "Validation score: 0.326998\n",
            "Iteration 1, loss = 3.08431424\n",
            "Validation score: 0.314268\n",
            "Iteration 1, loss = 3.05473555\n",
            "Validation score: 0.328635\n",
            "Iteration 1, loss = 3.10140066\n",
            "Validation score: 0.319814\n",
            "Iteration 1, loss = 3.06537254\n",
            "Validation score: 0.321542\n",
            "Iteration 1, loss = 2.68845849\n",
            "Validation score: 0.382013\n",
            "Iteration 1, loss = 2.60456543\n",
            "Validation score: 0.396836\n",
            "Iteration 1, loss = 2.63688168\n",
            "Validation score: 0.389561\n",
            "Iteration 1, loss = 2.66932962\n",
            "Validation score: 0.373375\n",
            "Iteration 1, loss = 2.58007718\n",
            "Validation score: 0.394653\n",
            "Iteration 1, loss = 2.96674166\n",
            "Validation score: 0.324270\n",
            "Iteration 1, loss = 3.00201697\n",
            "Validation score: 0.321633\n",
            "Iteration 1, loss = 3.01180210\n",
            "Validation score: 0.326271\n",
            "Iteration 1, loss = 3.02118772\n",
            "Validation score: 0.325725\n",
            "Iteration 1, loss = 2.96868511\n",
            "Validation score: 0.322452\n",
            "Iteration 1, loss = 2.69919781\n",
            "Validation score: 0.352733\n",
            "Iteration 1, loss = 2.65469517\n",
            "Validation score: 0.377103\n",
            "Iteration 1, loss = 2.67633938\n",
            "Validation score: 0.374193\n",
            "Iteration 1, loss = 2.67869079\n",
            "Validation score: 0.368555\n",
            "Iteration 1, loss = 2.68128394\n",
            "Validation score: 0.378467\n",
            "Iteration 1, loss = 2.87536362\n",
            "Validation score: 0.314540\n",
            "Iteration 1, loss = 2.93950194\n",
            "Validation score: 0.318178\n",
            "Iteration 1, loss = 2.91251200\n",
            "Validation score: 0.329090\n",
            "Iteration 1, loss = 2.88840121\n",
            "Validation score: 0.321269\n",
            "Iteration 1, loss = 2.99529555\n",
            "Validation score: 0.325543\n",
            "Iteration 1, loss = 2.53105584\n",
            "Validation score: 0.412658\n",
            "Iteration 1, loss = 2.51694610\n",
            "Validation score: 0.399109\n",
            "Iteration 1, loss = 2.51204694\n",
            "Validation score: 0.404201\n",
            "Iteration 1, loss = 2.52245847\n",
            "Validation score: 0.414931\n",
            "Iteration 1, loss = 2.54421932\n",
            "Validation score: 0.408566\n",
            "Iteration 1, loss = 2.91498537\n",
            "Validation score: 0.324543\n",
            "Iteration 1, loss = 2.88414700\n",
            "Validation score: 0.319724\n",
            "Iteration 1, loss = 2.91284425\n",
            "Validation score: 0.319542\n",
            "Iteration 1, loss = 2.94270339\n",
            "Validation score: 0.320997\n",
            "Iteration 1, loss = 2.89074244\n",
            "Validation score: 0.315904\n",
            "Iteration 1, loss = 2.45509161\n",
            "Validation score: 0.414884\n",
            "CPU times: user 21min 54s, sys: 20min 32s, total: 42min 27s\n",
            "Wall time: 23min 5s\n",
            "Iteration 1, loss = 1.32030126\n",
            "Validation score: 0.338001\n",
            "Iteration 1, loss = 1.32886083\n",
            "Validation score: 0.345549\n",
            "Iteration 1, loss = 1.32461486\n",
            "Validation score: 0.348277\n",
            "Iteration 1, loss = 1.31215132\n",
            "Validation score: 0.349004\n",
            "Iteration 1, loss = 1.33309996\n",
            "Validation score: 0.340638\n",
            "Iteration 1, loss = 1.32375100\n",
            "Validation score: 0.343094\n",
            "Iteration 1, loss = 1.32423147\n",
            "Validation score: 0.346003\n",
            "Iteration 1, loss = 1.31704755\n",
            "Validation score: 0.338365\n",
            "Iteration 1, loss = 1.32556381\n",
            "Validation score: 0.344094\n",
            "Iteration 1, loss = 1.33481858\n",
            "Validation score: 0.347095\n",
            "Iteration 1, loss = 1.30748484\n",
            "Validation score: 0.470219\n",
            "Iteration 1, loss = 1.30118488\n",
            "Validation score: 0.428935\n",
            "Iteration 1, loss = 1.30586884\n",
            "Validation score: 0.455306\n",
            "Iteration 1, loss = 1.30432603\n",
            "Validation score: 0.435573\n",
            "Iteration 1, loss = 1.30698462\n",
            "Validation score: 0.450214\n",
            "Iteration 1, loss = 1.31549119\n",
            "Validation score: 0.349732\n",
            "Iteration 1, loss = 1.32094834\n",
            "Validation score: 0.339365\n",
            "Iteration 1, loss = 1.32982862\n",
            "Validation score: 0.353005\n",
            "Iteration 1, loss = 1.31573211\n",
            "Validation score: 0.342912\n",
            "Iteration 1, loss = 1.31691215\n",
            "Validation score: 0.346549\n",
            "Iteration 1, loss = 1.15621577\n",
            "Validation score: 0.550150\n",
            "Iteration 1, loss = 1.16838598\n",
            "Validation score: 0.552514\n",
            "Iteration 1, loss = 1.17997590\n",
            "Validation score: 0.558061\n",
            "Iteration 1, loss = 1.15193946\n",
            "Validation score: 0.553060\n",
            "Iteration 1, loss = 1.18868763\n",
            "Validation score: 0.542966\n",
            "Iteration 1, loss = 1.32404933\n",
            "Validation score: 0.342639\n",
            "Iteration 1, loss = 1.32313823\n",
            "Validation score: 0.347004\n",
            "Iteration 1, loss = 1.32760469\n",
            "Validation score: 0.349732\n",
            "Iteration 1, loss = 1.32746585\n",
            "Validation score: 0.333909\n",
            "Iteration 1, loss = 1.32039887\n",
            "Validation score: 0.341366\n",
            "Iteration 1, loss = 1.11333872\n",
            "Validation score: 0.553060\n",
            "Iteration 1, loss = 1.13148688\n",
            "Validation score: 0.554697\n",
            "Iteration 1, loss = 1.11193524\n",
            "Validation score: 0.571520\n",
            "Iteration 1, loss = 1.11211738\n",
            "Validation score: 0.559425\n",
            "Iteration 1, loss = 1.11811896\n",
            "Validation score: 0.555424\n",
            "Iteration 1, loss = 1.32052313\n",
            "Validation score: 0.335091\n",
            "Iteration 1, loss = 1.33036233\n",
            "Validation score: 0.347186\n",
            "Iteration 1, loss = 1.31520972\n",
            "Validation score: 0.344912\n",
            "Iteration 1, loss = 1.31758118\n",
            "Validation score: 0.342730\n",
            "Iteration 1, loss = 1.31498530\n",
            "Validation score: 0.347186\n",
            "Iteration 1, loss = 1.24323167\n",
            "Validation score: 0.537146\n",
            "Iteration 1, loss = 1.20109967\n",
            "Validation score: 0.551150\n",
            "Iteration 1, loss = 1.20594176\n",
            "Validation score: 0.539875\n",
            "Iteration 1, loss = 1.23153443\n",
            "Validation score: 0.500500\n",
            "Iteration 1, loss = 1.20281769\n",
            "Validation score: 0.529053\n",
            "Iteration 1, loss = 1.31468802\n",
            "Validation score: 0.339456\n",
            "Iteration 1, loss = 1.31396283\n",
            "Validation score: 0.341730\n",
            "Iteration 1, loss = 1.33803303\n",
            "Validation score: 0.343094\n",
            "Iteration 1, loss = 1.35049542\n",
            "Validation score: 0.312813\n",
            "Iteration 1, loss = 1.34521285\n",
            "Validation score: 0.345549\n",
            "Iteration 1, loss = 1.13322206\n",
            "Validation score: 0.559334\n",
            "Iteration 1, loss = 1.12943163\n",
            "Validation score: 0.555151\n",
            "Iteration 1, loss = 1.13137758\n",
            "Validation score: 0.561153\n",
            "Iteration 1, loss = 1.16165382\n",
            "Validation score: 0.562244\n",
            "Iteration 1, loss = 1.15521767\n",
            "Validation score: 0.555515\n",
            "Iteration 1, loss = 1.32469833\n",
            "Validation score: 0.348641\n",
            "Iteration 1, loss = 1.32808833\n",
            "Validation score: 0.338001\n",
            "Iteration 1, loss = 1.34934204\n",
            "Validation score: 0.349732\n",
            "Iteration 1, loss = 1.31471383\n",
            "Validation score: 0.344185\n",
            "Iteration 1, loss = 1.32709286\n",
            "Validation score: 0.338729\n",
            "Iteration 1, loss = 1.16243202\n",
            "Validation score: 0.548422\n",
            "Iteration 1, loss = 1.14912145\n",
            "Validation score: 0.558152\n",
            "Iteration 1, loss = 1.15071381\n",
            "Validation score: 0.550332\n",
            "Iteration 1, loss = 1.14532206\n",
            "Validation score: 0.552242\n",
            "Iteration 1, loss = 1.13674415\n",
            "Validation score: 0.563154\n",
            "Iteration 1, loss = 1.31577788\n",
            "Validation score: 0.335000\n",
            "Iteration 1, loss = 1.33324732\n",
            "Validation score: 0.339092\n",
            "Iteration 1, loss = 1.32599826\n",
            "Validation score: 0.353278\n",
            "Iteration 1, loss = 1.32040347\n",
            "Validation score: 0.340456\n",
            "Iteration 1, loss = 1.31575625\n",
            "Validation score: 0.341457\n",
            "Iteration 1, loss = 1.11860181\n",
            "Validation score: 0.568519\n",
            "Iteration 1, loss = 1.12093689\n",
            "Validation score: 0.558516\n",
            "Iteration 1, loss = 1.11218953\n",
            "Validation score: 0.560698\n",
            "Iteration 1, loss = 1.11316605\n",
            "Validation score: 0.558425\n",
            "Iteration 1, loss = 1.10300259\n",
            "Validation score: 0.552514\n",
            "Iteration 1, loss = 1.31475530\n",
            "Validation score: 0.349641\n",
            "Iteration 1, loss = 1.31259383\n",
            "Validation score: 0.346640\n",
            "Iteration 1, loss = 1.32942081\n",
            "Validation score: 0.347913\n",
            "Iteration 1, loss = 1.31916108\n",
            "Validation score: 0.351641\n",
            "Iteration 1, loss = 1.33929210\n",
            "Validation score: 0.345367\n",
            "Iteration 1, loss = 1.09817158\n",
            "Validation score: 0.554707\n",
            "CPU times: user 21min 3s, sys: 19min 12s, total: 40min 15s\n",
            "Wall time: 21min 44s\n"
          ]
        }
      ]
    }
  ],
  "metadata": {
    "kernelspec": {
      "display_name": "Python 3 (ipykernel)",
      "language": "python",
      "name": "python3"
    },
    "language_info": {
      "codemirror_mode": {
        "name": "ipython",
        "version": 3
      },
      "file_extension": ".py",
      "mimetype": "text/x-python",
      "name": "python",
      "nbconvert_exporter": "python",
      "pygments_lexer": "ipython3",
      "version": "3.9.8"
    },
    "colab": {
      "provenance": [],
      "include_colab_link": true
    }
  },
  "nbformat": 4,
  "nbformat_minor": 5
}