{
  "cells": [
    {
      "cell_type": "markdown",
      "metadata": {
        "id": "view-in-github",
        "colab_type": "text"
      },
      "source": [
        "<a href=\"https://colab.research.google.com/github/gbardaklis/Mini-Project-1/blob/gia-testing/MP1.ipynb\" target=\"_parent\"><img src=\"https://colab.research.google.com/assets/colab-badge.svg\" alt=\"Open In Colab\"/></a>"
      ]
    },
    {
      "cell_type": "code",
      "execution_count": 1,
      "id": "73bf3515",
      "metadata": {
        "id": "73bf3515"
      },
      "outputs": [],
      "source": [
        "import json\n",
        "import pandas as pd\n",
        "import matplotlib.pyplot as plt\n",
        "from sklearn.feature_extraction.text import CountVectorizer\n",
        "from sklearn.model_selection import train_test_split\n",
        "import warnings"
      ]
    },
    {
      "cell_type": "markdown",
      "id": "bdb5ee69",
      "metadata": {
        "id": "bdb5ee69"
      },
      "source": [
        "# Task 1: Dataset Preparation & Analysis"
      ]
    },
    {
      "cell_type": "code",
      "execution_count": 2,
      "id": "a48b0f91",
      "metadata": {
        "id": "a48b0f91"
      },
      "outputs": [],
      "source": [
        "with open(\"/content/goemotions.json\") as f:\n",
        "    data = json.load(f)"
      ]
    },
    {
      "cell_type": "code",
      "execution_count": 3,
      "id": "a932cb11",
      "metadata": {
        "colab": {
          "base_uri": "https://localhost:8080/",
          "height": 424
        },
        "id": "a932cb11",
        "outputId": "7d2d86e1-e627-45e4-e868-e9361bbf724c"
      },
      "outputs": [
        {
          "output_type": "execute_result",
          "data": {
            "text/plain": [
              "                                                     Post     Emotion  \\\n",
              "0                                         That game hurt.     sadness   \n",
              "1          You do right, if you don't care then fuck 'em!     neutral   \n",
              "2                                      Man I love reddit.        love   \n",
              "3       [NAME] was nowhere near them, he was by the Fa...     neutral   \n",
              "4       Right? Considering it’s such an important docu...   gratitude   \n",
              "...                                                   ...         ...   \n",
              "171815  Well, I'm glad you're out of all that now. How...         joy   \n",
              "171816                             Everyone likes [NAME].        love   \n",
              "171817  Well when you’ve imported about a gazillion of...      caring   \n",
              "171818                                 That looks amazing  admiration   \n",
              "171819  The FDA has plenty to criticize. But like here...       anger   \n",
              "\n",
              "       Sentiment  \n",
              "0       negative  \n",
              "1        neutral  \n",
              "2       positive  \n",
              "3        neutral  \n",
              "4       positive  \n",
              "...          ...  \n",
              "171815  positive  \n",
              "171816  positive  \n",
              "171817  positive  \n",
              "171818  positive  \n",
              "171819  negative  \n",
              "\n",
              "[171820 rows x 3 columns]"
            ],
            "text/html": [
              "\n",
              "  <div id=\"df-db3a8c3c-21e9-4515-b66d-2e28a5a7f3e8\">\n",
              "    <div class=\"colab-df-container\">\n",
              "      <div>\n",
              "<style scoped>\n",
              "    .dataframe tbody tr th:only-of-type {\n",
              "        vertical-align: middle;\n",
              "    }\n",
              "\n",
              "    .dataframe tbody tr th {\n",
              "        vertical-align: top;\n",
              "    }\n",
              "\n",
              "    .dataframe thead th {\n",
              "        text-align: right;\n",
              "    }\n",
              "</style>\n",
              "<table border=\"1\" class=\"dataframe\">\n",
              "  <thead>\n",
              "    <tr style=\"text-align: right;\">\n",
              "      <th></th>\n",
              "      <th>Post</th>\n",
              "      <th>Emotion</th>\n",
              "      <th>Sentiment</th>\n",
              "    </tr>\n",
              "  </thead>\n",
              "  <tbody>\n",
              "    <tr>\n",
              "      <th>0</th>\n",
              "      <td>That game hurt.</td>\n",
              "      <td>sadness</td>\n",
              "      <td>negative</td>\n",
              "    </tr>\n",
              "    <tr>\n",
              "      <th>1</th>\n",
              "      <td>You do right, if you don't care then fuck 'em!</td>\n",
              "      <td>neutral</td>\n",
              "      <td>neutral</td>\n",
              "    </tr>\n",
              "    <tr>\n",
              "      <th>2</th>\n",
              "      <td>Man I love reddit.</td>\n",
              "      <td>love</td>\n",
              "      <td>positive</td>\n",
              "    </tr>\n",
              "    <tr>\n",
              "      <th>3</th>\n",
              "      <td>[NAME] was nowhere near them, he was by the Fa...</td>\n",
              "      <td>neutral</td>\n",
              "      <td>neutral</td>\n",
              "    </tr>\n",
              "    <tr>\n",
              "      <th>4</th>\n",
              "      <td>Right? Considering it’s such an important docu...</td>\n",
              "      <td>gratitude</td>\n",
              "      <td>positive</td>\n",
              "    </tr>\n",
              "    <tr>\n",
              "      <th>...</th>\n",
              "      <td>...</td>\n",
              "      <td>...</td>\n",
              "      <td>...</td>\n",
              "    </tr>\n",
              "    <tr>\n",
              "      <th>171815</th>\n",
              "      <td>Well, I'm glad you're out of all that now. How...</td>\n",
              "      <td>joy</td>\n",
              "      <td>positive</td>\n",
              "    </tr>\n",
              "    <tr>\n",
              "      <th>171816</th>\n",
              "      <td>Everyone likes [NAME].</td>\n",
              "      <td>love</td>\n",
              "      <td>positive</td>\n",
              "    </tr>\n",
              "    <tr>\n",
              "      <th>171817</th>\n",
              "      <td>Well when you’ve imported about a gazillion of...</td>\n",
              "      <td>caring</td>\n",
              "      <td>positive</td>\n",
              "    </tr>\n",
              "    <tr>\n",
              "      <th>171818</th>\n",
              "      <td>That looks amazing</td>\n",
              "      <td>admiration</td>\n",
              "      <td>positive</td>\n",
              "    </tr>\n",
              "    <tr>\n",
              "      <th>171819</th>\n",
              "      <td>The FDA has plenty to criticize. But like here...</td>\n",
              "      <td>anger</td>\n",
              "      <td>negative</td>\n",
              "    </tr>\n",
              "  </tbody>\n",
              "</table>\n",
              "<p>171820 rows × 3 columns</p>\n",
              "</div>\n",
              "      <button class=\"colab-df-convert\" onclick=\"convertToInteractive('df-db3a8c3c-21e9-4515-b66d-2e28a5a7f3e8')\"\n",
              "              title=\"Convert this dataframe to an interactive table.\"\n",
              "              style=\"display:none;\">\n",
              "        \n",
              "  <svg xmlns=\"http://www.w3.org/2000/svg\" height=\"24px\"viewBox=\"0 0 24 24\"\n",
              "       width=\"24px\">\n",
              "    <path d=\"M0 0h24v24H0V0z\" fill=\"none\"/>\n",
              "    <path d=\"M18.56 5.44l.94 2.06.94-2.06 2.06-.94-2.06-.94-.94-2.06-.94 2.06-2.06.94zm-11 1L8.5 8.5l.94-2.06 2.06-.94-2.06-.94L8.5 2.5l-.94 2.06-2.06.94zm10 10l.94 2.06.94-2.06 2.06-.94-2.06-.94-.94-2.06-.94 2.06-2.06.94z\"/><path d=\"M17.41 7.96l-1.37-1.37c-.4-.4-.92-.59-1.43-.59-.52 0-1.04.2-1.43.59L10.3 9.45l-7.72 7.72c-.78.78-.78 2.05 0 2.83L4 21.41c.39.39.9.59 1.41.59.51 0 1.02-.2 1.41-.59l7.78-7.78 2.81-2.81c.8-.78.8-2.07 0-2.86zM5.41 20L4 18.59l7.72-7.72 1.47 1.35L5.41 20z\"/>\n",
              "  </svg>\n",
              "      </button>\n",
              "      \n",
              "  <style>\n",
              "    .colab-df-container {\n",
              "      display:flex;\n",
              "      flex-wrap:wrap;\n",
              "      gap: 12px;\n",
              "    }\n",
              "\n",
              "    .colab-df-convert {\n",
              "      background-color: #E8F0FE;\n",
              "      border: none;\n",
              "      border-radius: 50%;\n",
              "      cursor: pointer;\n",
              "      display: none;\n",
              "      fill: #1967D2;\n",
              "      height: 32px;\n",
              "      padding: 0 0 0 0;\n",
              "      width: 32px;\n",
              "    }\n",
              "\n",
              "    .colab-df-convert:hover {\n",
              "      background-color: #E2EBFA;\n",
              "      box-shadow: 0px 1px 2px rgba(60, 64, 67, 0.3), 0px 1px 3px 1px rgba(60, 64, 67, 0.15);\n",
              "      fill: #174EA6;\n",
              "    }\n",
              "\n",
              "    [theme=dark] .colab-df-convert {\n",
              "      background-color: #3B4455;\n",
              "      fill: #D2E3FC;\n",
              "    }\n",
              "\n",
              "    [theme=dark] .colab-df-convert:hover {\n",
              "      background-color: #434B5C;\n",
              "      box-shadow: 0px 1px 3px 1px rgba(0, 0, 0, 0.15);\n",
              "      filter: drop-shadow(0px 1px 2px rgba(0, 0, 0, 0.3));\n",
              "      fill: #FFFFFF;\n",
              "    }\n",
              "  </style>\n",
              "\n",
              "      <script>\n",
              "        const buttonEl =\n",
              "          document.querySelector('#df-db3a8c3c-21e9-4515-b66d-2e28a5a7f3e8 button.colab-df-convert');\n",
              "        buttonEl.style.display =\n",
              "          google.colab.kernel.accessAllowed ? 'block' : 'none';\n",
              "\n",
              "        async function convertToInteractive(key) {\n",
              "          const element = document.querySelector('#df-db3a8c3c-21e9-4515-b66d-2e28a5a7f3e8');\n",
              "          const dataTable =\n",
              "            await google.colab.kernel.invokeFunction('convertToInteractive',\n",
              "                                                     [key], {});\n",
              "          if (!dataTable) return;\n",
              "\n",
              "          const docLinkHtml = 'Like what you see? Visit the ' +\n",
              "            '<a target=\"_blank\" href=https://colab.research.google.com/notebooks/data_table.ipynb>data table notebook</a>'\n",
              "            + ' to learn more about interactive tables.';\n",
              "          element.innerHTML = '';\n",
              "          dataTable['output_type'] = 'display_data';\n",
              "          await google.colab.output.renderOutput(dataTable, element);\n",
              "          const docLink = document.createElement('div');\n",
              "          docLink.innerHTML = docLinkHtml;\n",
              "          element.appendChild(docLink);\n",
              "        }\n",
              "      </script>\n",
              "    </div>\n",
              "  </div>\n",
              "  "
            ]
          },
          "metadata": {},
          "execution_count": 3
        }
      ],
      "source": [
        "# importing the json file into a dataframe \n",
        "df = pd.DataFrame(data, columns = ['Post', 'Emotion', 'Sentiment'])\n",
        "df"
      ]
    },
    {
      "cell_type": "code",
      "execution_count": 4,
      "id": "a9465e8f",
      "metadata": {
        "id": "a9465e8f"
      },
      "outputs": [],
      "source": [
        "postsDict = df['Post'].values.tolist()"
      ]
    },
    {
      "cell_type": "code",
      "execution_count": 5,
      "id": "06f7dc05",
      "metadata": {
        "id": "06f7dc05"
      },
      "outputs": [],
      "source": [
        "# Returns the count of all 28 emotions, and stores it in countEmotions\n",
        "countEmotions = df['Emotion'].value_counts()\n",
        "# Turning the counts into a dictionary of pairs \n",
        "emotionsDict = countEmotions.to_dict()\n",
        "# emotionsDict"
      ]
    },
    {
      "cell_type": "code",
      "execution_count": 6,
      "id": "78cc345a",
      "metadata": {
        "id": "78cc345a"
      },
      "outputs": [],
      "source": [
        "# Returns the count of all 4 sentiments, and stores it in countSentiments\n",
        "countSentiments = df['Sentiment'].value_counts()\n",
        "# Turning the sentiment count into a dictionary of pairs \n",
        "sentimentsDict = countSentiments.to_dict()\n",
        "# sentimentsDict"
      ]
    },
    {
      "cell_type": "code",
      "execution_count": null,
      "id": "5e765e45",
      "metadata": {
        "id": "5e765e45"
      },
      "outputs": [],
      "source": [
        "# # Stores emotions into a list\n",
        "# emotion = df['Emotion'].tolist()\n",
        "# # Removes emotions duplicate from the list\n",
        "# emotion = list(dict.fromkeys(emotion))"
      ]
    },
    {
      "cell_type": "code",
      "execution_count": null,
      "id": "7ae56ca2",
      "metadata": {
        "id": "7ae56ca2"
      },
      "outputs": [],
      "source": [
        "# # Stores sentiments into a list\n",
        "# sentiment = df['Sentiment'].tolist()\n",
        "# # Removes sentiments duplicate from the list\n",
        "# sentiment = list(dict.fromkeys(sentiment))"
      ]
    },
    {
      "cell_type": "code",
      "execution_count": 7,
      "id": "69e54002",
      "metadata": {
        "scrolled": false,
        "colab": {
          "base_uri": "https://localhost:8080/",
          "height": 351
        },
        "id": "69e54002",
        "outputId": "be42d2d7-0511-40d4-b4ab-737f426a2c57"
      },
      "outputs": [
        {
          "output_type": "display_data",
          "data": {
            "text/plain": [
              "<Figure size 432x288 with 1 Axes>"
            ],
            "image/png": "[encoded data removed]"
          },
          "metadata": {
            "needs_background": "light"
          }
        },
        {
          "output_type": "display_data",
          "data": {
            "text/plain": [
              "<Figure size 432x288 with 0 Axes>"
            ]
          },
          "metadata": {}
        }
      ],
      "source": [
        "# Printing histogram for emotions\n",
        "plt.bar(emotionsDict.keys(), emotionsDict.values())\n",
        "# 90 degree roration on x-axis labels\n",
        "plt.xticks(rotation = 90)\n",
        "plt.show()\n",
        "plt.savefig('emotion-plot.pdf')"
      ]
    },
    {
      "cell_type": "code",
      "execution_count": 8,
      "id": "531d08d3",
      "metadata": {
        "colab": {
          "base_uri": "https://localhost:8080/",
          "height": 282
        },
        "id": "531d08d3",
        "outputId": "e4c34ce1-412c-4ca5-f8db-4c3a9212ab57"
      },
      "outputs": [
        {
          "output_type": "display_data",
          "data": {
            "text/plain": [
              "<Figure size 432x288 with 1 Axes>"
            ],
            "image/png": "[encoded data removed]"
          },
          "metadata": {
            "needs_background": "light"
          }
        },
        {
          "output_type": "display_data",
          "data": {
            "text/plain": [
              "<Figure size 432x288 with 0 Axes>"
            ]
          },
          "metadata": {}
        }
      ],
      "source": [
        "# Printing sentiments in histogram\n",
        "plt.bar(sentimentsDict.keys(), sentimentsDict.values())\n",
        "plt.show()\n",
        "plt.savefig('sentiment-plot.png')"
      ]
    },
    {
      "cell_type": "markdown",
      "id": "a8b4f018",
      "metadata": {
        "id": "a8b4f018"
      },
      "source": [
        "# Task 2: Words as Features"
      ]
    },
    {
      "cell_type": "code",
      "execution_count": 9,
      "id": "c8aa3310",
      "metadata": {
        "colab": {
          "base_uri": "https://localhost:8080/"
        },
        "id": "c8aa3310",
        "outputId": "0d9168f9-7fbd-4006-d41b-b75bc74f6e39"
      },
      "outputs": [
        {
          "output_type": "stream",
          "name": "stdout",
          "text": [
            "The size of the vocabulary is 30449 words.\n"
          ]
        }
      ],
      "source": [
        "# 2.1 --display the number of tokens (the size of the vocabulary) in the dataset\n",
        "\n",
        "vectorizer = CountVectorizer()\n",
        "post = vectorizer.fit_transform(postsDict)\n",
        "print(f'The size of the vocabulary is {vectorizer.get_feature_names_out().shape[0]} words.')"
      ]
    },
    {
      "cell_type": "code",
      "execution_count": null,
      "id": "059c2ca5",
      "metadata": {
        "id": "059c2ca5"
      },
      "outputs": [],
      "source": [
        "# 2.2 --split the dataset into 80% for training and 20% for testing\n",
        "post_train, post_test,emotion_train, emotion_test, sentiment_train, sentiment_test = train_test_split(post,df['Emotion'], df['Sentiment'], test_size=0.2)"
      ]
    },
    {
      "cell_type": "code",
      "execution_count": null,
      "id": "6bbcbe3a",
      "metadata": {
        "id": "6bbcbe3a"
      },
      "outputs": [],
      "source": [
        "# 2.3 --train and test for both the emotion and sentiment classification using word frequency as features"
      ]
    },
    {
      "cell_type": "code",
      "execution_count": null,
      "id": "bbfadb24",
      "metadata": {
        "colab": {
          "base_uri": "https://localhost:8080/"
        },
        "id": "bbfadb24",
        "outputId": "183e78fa-afed-49ba-9639-2879ed3a098e"
      },
      "outputs": [
        {
          "output_type": "stream",
          "name": "stdout",
          "text": [
            "CPU times: user 1.56 s, sys: 9.4 ms, total: 1.57 s\n",
            "Wall time: 1.57 s\n",
            "CPU times: user 1.18 s, sys: 13.2 ms, total: 1.19 s\n",
            "Wall time: 1.19 s\n"
          ]
        },
        {
          "output_type": "execute_result",
          "data": {
            "text/plain": [
              "MultinomialNB()"
            ]
          },
          "metadata": {},
          "execution_count": 37
        }
      ],
      "source": [
        "# 2.3.1 --Base-MNB with the default parameters\n",
        "from sklearn.naive_bayes import MultinomialNB\n",
        "mnb = MultinomialNB()\n",
        "%time mnb.fit(post_train, emotion_train)\n",
        "%time mnb.fit(post_train, sentiment_train)"
      ]
    },
    {
      "cell_type": "code",
      "execution_count": null,
      "id": "db813a5b",
      "metadata": {
        "colab": {
          "base_uri": "https://localhost:8080/"
        },
        "id": "db813a5b",
        "outputId": "5c71e08e-9b52-4d67-e910-53339da4c12f"
      },
      "outputs": [
        {
          "output_type": "stream",
          "name": "stdout",
          "text": [
            "CPU times: user 2min 9s, sys: 170 ms, total: 2min 10s\n",
            "Wall time: 2min 9s\n",
            "CPU times: user 1min 52s, sys: 106 ms, total: 1min 53s\n",
            "Wall time: 1min 52s\n"
          ]
        },
        {
          "output_type": "execute_result",
          "data": {
            "text/plain": [
              "DecisionTreeClassifier()"
            ]
          },
          "metadata": {},
          "execution_count": 25
        }
      ],
      "source": [
        "# 2.3.2 --Base-DT with the default parameters\n",
        "from sklearn.tree import DecisionTreeClassifier\n",
        "from sklearn.model_selection import cross_val_score\n",
        "dt = DecisionTreeClassifier()\n",
        "%time dt.fit(post_train, emotion_train)\n",
        "%time dt.fit(post_train, sentiment_train)"
      ]
    },
    {
      "cell_type": "code",
      "execution_count": null,
      "id": "961e38c4",
      "metadata": {
        "colab": {
          "base_uri": "https://localhost:8080/"
        },
        "id": "961e38c4",
        "outputId": "97abf446-4f36-4d75-9ac9-25e5db5a570f"
      },
      "outputs": [
        {
          "output_type": "stream",
          "name": "stdout",
          "text": [
            "CPU times: user 11min 50s, sys: 9min 4s, total: 20min 54s\n",
            "Wall time: 10min 53s\n",
            "CPU times: user 12min 17s, sys: 9min 27s, total: 21min 45s\n",
            "Wall time: 11min 19s\n"
          ]
        },
        {
          "output_type": "execute_result",
          "data": {
            "text/plain": [
              "MLPClassifier(early_stopping=True, max_iter=15)"
            ]
          },
          "metadata": {},
          "execution_count": 14
        }
      ],
      "source": [
        "#2.3.3 --Base-MLP with the default parameters\n",
        "from sklearn.neural_network import MLPClassifier\n",
        "mlp = MLPClassifier(early_stopping=True, max_iter=15)\n",
        "%time mlp.fit(post_train, emotion_train)\n",
        "%time mlp.fit(post_train, sentiment_train)"
      ]
    },
    {
      "cell_type": "code",
      "execution_count": null,
      "id": "0eb93a86",
      "metadata": {
        "colab": {
          "base_uri": "https://localhost:8080/"
        },
        "id": "0eb93a86",
        "outputId": "a68ec42f-9d9c-4598-e5e9-2dc9c43f6f14"
      },
      "outputs": [
        {
          "output_type": "stream",
          "name": "stdout",
          "text": [
            "CPU times: user 26.5 s, sys: 139 ms, total: 26.6 s\n",
            "Wall time: 26.7 s\n",
            "CPU times: user 19.6 s, sys: 103 ms, total: 19.7 s\n",
            "Wall time: 19.7 s\n"
          ]
        },
        {
          "output_type": "execute_result",
          "data": {
            "text/plain": [
              "GridSearchCV(estimator=MultinomialNB(),\n",
              "             param_grid={'alpha': [0.5, 0, 1.0, 1.5]})"
            ]
          },
          "metadata": {},
          "execution_count": 48
        }
      ],
      "source": [
        "#2.3.4 --Top-MNB using GridSearchCV\n",
        "warnings.simplefilter('ignore', UserWarning)\n",
        "from sklearn.model_selection import GridSearchCV\n",
        "param = {'alpha' : [0.5, 0, 1.0, 1.5]}\n",
        "mnb_gscv = GridSearchCV(MultinomialNB(), param)\n",
        "%time mnb_gscv.fit(post_train, emotion_train)\n",
        "%time mnb_gscv.fit(post_train, sentiment_train)"
      ]
    },
    {
      "cell_type": "code",
      "source": [
        "#2.3.5 --Top-DT using GridSearchCV\n",
        "from sklearn.model_selection import GridSearchCV\n",
        "param = {'criterion' : ['gini', 'entropy'], 'max_depth' : [18,36], 'min_samples_split' : [3,6,9]}\n",
        "dt_gscv = GridSearchCV(DecisionTreeClassifier(), param)\n",
        "%time dt_gscv.fit(post_train, emotion_train)\n",
        "%time dt_gscv.fit(post_train, sentiment_train)\n",
        "\n"
      ],
      "metadata": {
        "colab": {
          "base_uri": "https://localhost:8080/"
        },
        "id": "cnSXMVEzG9lB",
        "outputId": "648537fb-307b-40e4-afb9-e93195c19bfd"
      },
      "id": "cnSXMVEzG9lB",
      "execution_count": null,
      "outputs": [
        {
          "output_type": "stream",
          "name": "stdout",
          "text": [
            "CPU times: user 8min 40s, sys: 819 ms, total: 8min 41s\n",
            "Wall time: 8min 40s\n",
            "CPU times: user 7min 12s, sys: 681 ms, total: 7min 12s\n",
            "Wall time: 7min 12s\n"
          ]
        },
        {
          "output_type": "execute_result",
          "data": {
            "text/plain": [
              "GridSearchCV(estimator=DecisionTreeClassifier(),\n",
              "             param_grid={'criterion': ['gini', 'entropy'],\n",
              "                         'max_depth': [18, 36],\n",
              "                         'min_samples_split': [3, 6, 9]})"
            ]
          },
          "metadata": {},
          "execution_count": 50
        }
      ]
    },
    {
      "cell_type": "code",
      "source": [
        "#2.3.6 --Top-MLP using GridSearchCV\n",
        "from sklearn.exceptions import ConvergenceWarning\n",
        "warnings.simplefilter('ignore', ConvergenceWarning)\n",
        "from sklearn.model_selection import GridSearchCV\n",
        "param = {'activation' : ['logistic', 'tanh', 'relu', 'identity'], 'hidden_layer_sizes' : [(10,30,10), (50, 30)], 'solver' : ['adam', 'sgd']}\n",
        "mlp_gscv = GridSearchCV(MLPClassifier(early_stopping=True, max_iter=1, verbose=True), param)\n",
        "%time mlp_gscv.fit(post_train, emotion_train)\n",
        "%time mlp_gscv.fit(post_train, sentiment_train)"
      ],
      "metadata": {
        "id": "uqL3UnfUHNV_"
      },
      "id": "uqL3UnfUHNV_",
      "execution_count": null,
      "outputs": []
    },
    {
      "cell_type": "code",
      "source": [
        "#2.4 --save info required  in a file called \"performance\"\n",
        "from sklearn import metrics\n",
        "import numpy as np"
      ],
      "metadata": {
        "id": "F4Eec9IzFC7N"
      },
      "id": "F4Eec9IzFC7N",
      "execution_count": null,
      "outputs": []
    },
    {
      "cell_type": "code",
      "source": [
        "#2.4: Base-MNB\n",
        "#emotion\n",
        "with open('performance.txt', 'a') as performance:\n",
        "  print('Base-MNB: Emotion Classification', mnb, file=performance)\n",
        "  emotion_pred = mnb.fit(post_train, emotion_train).predict(post_test)\n",
        "  print('Emotion Prediction: \\n',emotion_pred, file=performance)\n",
        "  ecm = metrics.confusion_matrix(emotion_test, emotion_pred)\n",
        "  print('Emotion Confusion Matrix: \\n',ecm, file=performance)\n",
        "  ecr = metrics.classification_report(emotion_test,emotion_pred,labels=np.unique(emotion_test), zero_division=0)\n",
        "  print('Emotion Classification Report: \\n',ecr, file=performance)\n",
        "\n",
        "#sentiment\n",
        "  print('Base-MNB: Sentiment Classification', mnb, file=performance)\n",
        "  sentiment_pred = mnb.fit(post_train, sentiment_train).predict(post_test)\n",
        "  print('Sentiment Prediction: \\n',sentiment_pred, file=performance)\n",
        "  scm = metrics.confusion_matrix(sentiment_test, sentiment_pred)\n",
        "  print('Sentiment Confusion Matrix: \\n',scm, file=performance)\n",
        "  scr = metrics.classification_report(sentiment_test,sentiment_pred,labels=np.unique(sentiment_test), zero_division=0)\n",
        "  print('Sentiment Classification Report: \\n',scr, file=performance)\n"
      ],
      "metadata": {
        "id": "tkDAMFUEWVRR"
      },
      "id": "tkDAMFUEWVRR",
      "execution_count": null,
      "outputs": []
    },
    {
      "cell_type": "code",
      "source": [
        "#2.4: Base-DT\n",
        "#emotion\n",
        "with open('performance.txt', 'a') as performance:\n",
        "  print('Base-DT: Emotion Classification', dt, file=performance)\n",
        "  emotion_pred = dt.fit(post_train, emotion_train).predict(post_test)\n",
        "  print('Emotion Prediction: \\n',emotion_pred, file=performance)\n",
        "  ecm = metrics.confusion_matrix(emotion_test, emotion_pred)\n",
        "  print('Emotion Confusion Matrix: \\n',ecm, file=performance)\n",
        "  ecr = metrics.classification_report(emotion_test,emotion_pred,labels=np.unique(emotion_test), zero_division=0)\n",
        "  print('Emotion Classification Report: \\n',ecr, file=performance)\n",
        "\n",
        "#sentiment\n",
        "  print('Base-DT: Sentiment Classification', dt, file=performance)\n",
        "  sentiment_pred = dt.fit(post_train, sentiment_train).predict(post_test)\n",
        "  print('Sentiment Prediction: \\n',sentiment_pred, file=performance)\n",
        "  scm = metrics.confusion_matrix(sentiment_test, sentiment_pred)\n",
        "  print('Sentiment Confusion Matrix: \\n',scm, file=performance)\n",
        "  scr = metrics.classification_report(sentiment_test,sentiment_pred,labels=np.unique(sentiment_test), zero_division=0)\n",
        "  print('Sentiment Classification Report: \\n',scr, file=performance)"
      ],
      "metadata": {
        "id": "S4_gm-lZWujw"
      },
      "id": "S4_gm-lZWujw",
      "execution_count": null,
      "outputs": []
    },
    {
      "cell_type": "code",
      "source": [
        "#2.4: Base-MLP\n",
        "#emotion\n",
        "with open('performance.txt', 'a') as performance:\n",
        "  print('Base-MLP: Emotion Classification', mlp, file=performance)\n",
        "  emotion_pred = mlp.fit(post_train, emotion_train).predict(post_test)\n",
        "  print('Emotion Prediction: \\n',emotion_pred, file=performance)\n",
        "  ecm = metrics.confusion_matrix(emotion_test, emotion_pred)\n",
        "  print('Emotion Confusion Matrix: \\n',ecm, file=performance)\n",
        "  ecr = metrics.classification_report(emotion_test,emotion_pred,labels=np.unique(emotion_test), zero_division=0)\n",
        "  print('Emotion Classification Report: \\n',ecr, file=performance)\n",
        "\n",
        "#sentiment\n",
        "  print('Base-MLP: Sentiment Classification', mlp, file=performance)\n",
        "  sentiment_pred = mlp.fit(post_train, sentiment_train).predict(post_test)\n",
        "  print('Sentiment Prediction: \\n',sentiment_pred, file=performance)\n",
        "  scm = metrics.confusion_matrix(sentiment_test, sentiment_pred)\n",
        "  print('Sentiment Confusion Matrix: \\n',scm, file=performance)\n",
        "  scr = metrics.classification_report(sentiment_test,sentiment_pred,labels=np.unique(sentiment_test), zero_division=0)\n",
        "  print('Sentiment Classification Report: \\n',scr, file=performance)"
      ],
      "metadata": {
        "id": "C74xNeXj0ZtG"
      },
      "id": "C74xNeXj0ZtG",
      "execution_count": null,
      "outputs": []
    },
    {
      "cell_type": "code",
      "source": [
        "#2.4: Top-MNB\n",
        "#emotion\n",
        "with open('performance.txt', 'a') as performance:\n",
        "  print('Top-MNB: Emotion Classification', mnb_gscv, file=performance)\n",
        "  emotion_pred = mnb_gscv.fit(post_train, emotion_train).predict(post_test)\n",
        "  print('Emotion Prediction: \\n',emotion_pred, file=performance)\n",
        "  ecm = metrics.confusion_matrix(emotion_test, emotion_pred)\n",
        "  print('Emotion Confusion Matrix: \\n',ecm, file=performance)\n",
        "  ecr = metrics.classification_report(emotion_test,emotion_pred,labels=np.unique(emotion_test), zero_division=0)\n",
        "  print('Emotion Classification Report: \\n',ecr, file=performance)\n",
        "\n",
        "#sentiment\n",
        "  print('Top-MNB: Sentiment Classification', mnb_gscv, file=performance)\n",
        "  sentiment_pred = mnb_gscv.fit(post_train, sentiment_train).predict(post_test)\n",
        "  print('Sentiment Prediction: \\n',sentiment_pred, file=performance)\n",
        "  scm = metrics.confusion_matrix(sentiment_test, sentiment_pred)\n",
        "  print('Sentiment Confusion Matrix: \\n',scm, file=performance)\n",
        "  scr = metrics.classification_report(sentiment_test,sentiment_pred,labels=np.unique(sentiment_test), zero_division=0)\n",
        "  print('Sentiment Classification Report: \\n',scr, file=performance)"
      ],
      "metadata": {
        "id": "wA7541REWu_9"
      },
      "id": "wA7541REWu_9",
      "execution_count": null,
      "outputs": []
    },
    {
      "cell_type": "code",
      "source": [
        "#2.4: Top-DT\n",
        "#emotion\n",
        "with open('performance.txt', 'a') as performance:\n",
        "  print('Top-DT: Emotion Classification', dt_gscv, file=performance)\n",
        "  emotion_pred = dt_gscv.fit(post_train, emotion_train).predict(post_test)\n",
        "  print('Emotion Prediction: \\n',emotion_pred, file=performance)\n",
        "  ecm = metrics.confusion_matrix(emotion_test, emotion_pred)\n",
        "  print('Emotion Confusion Matrix: \\n',ecm, file=performance)\n",
        "  ecr = metrics.classification_report(emotion_test,emotion_pred,labels=np.unique(emotion_test), zero_division=0)\n",
        "  print('Emotion Classification Report: \\n',ecr, file=performance)\n",
        "\n",
        "#sentiment\n",
        "  print('Top-DT: Sentiment Classification', dt_gscv, file=performance)\n",
        "  sentiment_pred = dt_gscv.fit(post_train, sentiment_train).predict(post_test)\n",
        "  print('Sentiment Prediction: \\n',sentiment_pred, file=performance)\n",
        "  scm = metrics.confusion_matrix(sentiment_test, sentiment_pred)\n",
        "  print('Sentiment Confusion Matrix: \\n',scm, file=performance)\n",
        "  scr = metrics.classification_report(sentiment_test,sentiment_pred,labels=np.unique(sentiment_test), zero_division=0)\n",
        "  print('Sentiment Classification Report: \\n',scr, file=performance)"
      ],
      "metadata": {
        "id": "DgVYnvT7WvQ3"
      },
      "id": "DgVYnvT7WvQ3",
      "execution_count": null,
      "outputs": []
    },
    {
      "cell_type": "code",
      "source": [
        "#2.4: Top-MLP\n",
        "#emotion\n",
        "with open('performance.txt', 'a') as performance:\n",
        "  print('Top-MLP: Emotion Classification', mlp_gscv, file=performance)\n",
        "  emotion_pred = mlp_gscv.fit(post_train, emotion_train).predict(post_test)\n",
        "  print('Emotion Prediction: \\n',emotion_pred, file=performance)\n",
        "  ecm = metrics.confusion_matrix(emotion_test, emotion_pred)\n",
        "  print('Emotion Confusion Matrix: \\n',ecm, file=performance)\n",
        "  ecr = metrics.classification_report(emotion_test,emotion_pred,labels=np.unique(emotion_test), zero_division=0)\n",
        "  print('Emotion Classification Report: \\n',ecr, file=performance)\n",
        "\n",
        "#sentiment\n",
        "  print('Top-MLP: Sentiment Classification', mlp_gscv, file=performance)\n",
        "  sentiment_pred = mlp_gscv.fit(post_train, sentiment_train).predict(post_test)\n",
        "  print('Sentiment Prediction: \\n',sentiment_pred, file=performance)\n",
        "  scm = metrics.confusion_matrix(sentiment_test, sentiment_pred)\n",
        "  print('Sentiment Confusion Matrix: \\n',scm, file=performance)\n",
        "  scr = metrics.classification_report(sentiment_test,sentiment_pred,labels=np.unique(sentiment_test), zero_division=0)\n",
        "  print('Sentiment Classification Report: \\n',scr, file=performance)"
      ],
      "metadata": {
        "id": "0xZMd5-zWvb5"
      },
      "id": "0xZMd5-zWvb5",
      "execution_count": null,
      "outputs": []
    },
    {
      "cell_type": "code",
      "source": [
        "#2.5: TfidfTransformer-train and test for both the emotion and sentiment classification\n",
        "from sklearn.feature_extraction.text import TfidfTransformer\n",
        "transformer = TfidfTransformer()\n",
        "post_tfidf = transformer.fit_transform(postsDict)\n",
        "#split the dataset into 80% for training and 20% for testing\n",
        "post_train, post_test,emotion_train, emotion_test, sentiment_train, sentiment_test = train_test_split(post_tfidf,df['Emotion'], df['Sentiment'], test_size=0.2)"
      ],
      "metadata": {
        "id": "DwRm1CjOEKxb"
      },
      "id": "DwRm1CjOEKxb",
      "execution_count": null,
      "outputs": []
    },
    {
      "cell_type": "code",
      "source": [
        "#Base-MNB\n",
        "from sklearn.naive_bayes import MultinomialNB\n",
        "with open('experiment.txt', 'a') as exp:\n",
        "  mnb = MultinomialNB()\n",
        "  emnb = %time mnb.fit(post_train, emotion_train)\n",
        "  smnb = %time mnb.fit(post_train, sentiment_train)\n",
        "  print('Emotion Base-MNB', emnb, file=exp)\n",
        "  print('Sentiment Base-MNB', smnb, file=exp)"
      ],
      "metadata": {
        "id": "QnUI90G5wDm5"
      },
      "id": "QnUI90G5wDm5",
      "execution_count": null,
      "outputs": []
    },
    {
      "cell_type": "code",
      "source": [
        "#Base-DT\n",
        "from sklearn.tree import DecisionTreeClassifier\n",
        "from sklearn.model_selection import cross_val_score\n",
        "with open('experiment.txt', 'a') as exp:\n",
        "  dt = DecisionTreeClassifier()\n",
        "  edt = %time dt.fit(post_train, emotion_train)\n",
        "  sdt = %time dt.fit(post_train, sentiment_train)\n",
        "  print('Emotion Base-DT', edt, file=exp)\n",
        "  print('Sentiment Base-DT', sdt, file=exp)"
      ],
      "metadata": {
        "id": "mjKROPYZwDyf"
      },
      "id": "mjKROPYZwDyf",
      "execution_count": null,
      "outputs": []
    },
    {
      "cell_type": "code",
      "source": [
        "#Base-MLP\n",
        "from sklearn.neural_network import MLPClassifier\n",
        "with open('experiment.txt', 'a') as exp:\n",
        "  mlp = MLPClassifier(early_stopping=True, max_iter=15)\n",
        "  emlp = %time mlp.fit(post_train, emotion_train)\n",
        "  smlp = %time mlp.fit(post_train, sentiment_train)\n",
        "  print('Emotion Base-MLP', emlp, file=exp)\n",
        "  print('Sentiment Base-MLP', smlp, file=exp)"
      ],
      "metadata": {
        "id": "VwqzVYtlwD79"
      },
      "id": "VwqzVYtlwD79",
      "execution_count": null,
      "outputs": []
    },
    {
      "cell_type": "code",
      "source": [
        "#Top-MNB\n",
        "warnings.simplefilter('ignore', UserWarning)\n",
        "from sklearn.model_selection import GridSearchCV\n",
        "with open('experiment.txt', 'a') as exp:\n",
        "  param = {'alpha' : [0.5, 0, 1.0, 1.5]}\n",
        "  mnb_gscv = GridSearchCV(MultinomialNB(), param)\n",
        "  emnb_gscv = %time mnb_gscv.fit(post_train, emotion_train)\n",
        "  smnb_gscv = %time mnb_gscv.fit(post_train, sentiment_train)\n",
        "  print('Emotion Top-MNB', emnb_gscv, file=exp)\n",
        "  print('Sentiment Top-MNB', smnb_gscv, file=exp)"
      ],
      "metadata": {
        "id": "0Ob7ZnC-wEFz"
      },
      "id": "0Ob7ZnC-wEFz",
      "execution_count": null,
      "outputs": []
    },
    {
      "cell_type": "code",
      "source": [
        "#Top-DT\n",
        "from sklearn.model_selection import GridSearchCV\n",
        "with open('experiment.txt', 'a') as exp:\n",
        "  param = {'criterion' : ['gini', 'entropy'], 'max_depth' : [18,36], 'min_samples_split' : [3,6,9]}\n",
        "  dt_gscv = GridSearchCV(DecisionTreeClassifier(), param)\n",
        "  edt_gscv = %time dt_gscv.fit(post_train, emotion_train)\n",
        "  sdt_gscv = %time dt_gscv.fit(post_train, sentiment_train)\n",
        "  print('Emotion Top-DT', edt_gscv, file=exp)\n",
        "  print('Sentiment Top-DT', sdt_gscv, file=exp)"
      ],
      "metadata": {
        "id": "7gtGay1kwEVG"
      },
      "id": "7gtGay1kwEVG",
      "execution_count": null,
      "outputs": []
    },
    {
      "cell_type": "code",
      "source": [
        "#Top-MLP\n",
        "from sklearn.exceptions import ConvergenceWarning\n",
        "warnings.simplefilter('ignore', ConvergenceWarning)\n",
        "from sklearn.model_selection import GridSearchCV\n",
        "with open('experiment.txt', 'a') as exp:\n",
        "  param = {'activation' : ['logistic', 'tanh', 'relu', 'identity'], 'hidden_layer_sizes' : [(10,30,10), (50, 30)], 'solver' : ['adam', 'sgd']}\n",
        "  mlp_gscv = GridSearchCV(MLPClassifier(early_stopping=True, max_iter=1, verbose=True), param)\n",
        "  emlp_gscv = %time mlp_gscv.fit(post_train, emotion_train)\n",
        "  smlp_gscv = %time mlp_gscv.fit(post_train, sentiment_train)\n",
        "  print('Emotion Top-MLP', emlp_gscv, file=exp)\n",
        "  print('Sentiment Top-MLP', smlp_gscv, file=exp)"
      ],
      "metadata": {
        "id": "hpQTe4VBwElG"
      },
      "id": "hpQTe4VBwElG",
      "execution_count": null,
      "outputs": []
    }
  ],
  "metadata": {
    "kernelspec": {
      "display_name": "Python 3 (ipykernel)",
      "language": "python",
      "name": "python3"
    },
    "language_info": {
      "codemirror_mode": {
        "name": "ipython",
        "version": 3
      },
      "file_extension": ".py",
      "mimetype": "text/x-python",
      "name": "python",
      "nbconvert_exporter": "python",
      "pygments_lexer": "ipython3",
      "version": "3.9.8"
    },
    "colab": {
      "provenance": [],
      "include_colab_link": true
    }
  },
  "nbformat": 4,
  "nbformat_minor": 5
}